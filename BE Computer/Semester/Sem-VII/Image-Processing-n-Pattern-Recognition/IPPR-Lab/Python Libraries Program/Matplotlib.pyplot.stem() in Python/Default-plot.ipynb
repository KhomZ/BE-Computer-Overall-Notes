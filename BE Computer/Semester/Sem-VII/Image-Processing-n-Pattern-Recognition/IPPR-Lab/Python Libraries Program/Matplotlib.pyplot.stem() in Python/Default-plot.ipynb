{
 "cells": [
  {
   "cell_type": "markdown",
   "metadata": {},
   "source": [
    "# @author: Khom\n",
    "### Matplotlib is a visualization library in Python for 2Dimensional plots of arrays.\n",
    "### It is a multi-platform data visualization library built on NumPy arrays and designed to\n",
    "### work with the broader SciPy stack.\n",
    "\n",
    "## matplotlib.pyplot.stem()\n",
    "\n",
    "## matplotlib.pyplot.stem() creates stem plots.\n",
    "## A stem plot plots vertical lines at each x position covered under the graph from baseline to y, and places a marker there."
   ]
  },
  {
   "cell_type": "code",
   "execution_count": 2,
   "metadata": {},
   "outputs": [
    {
     "data": {
      "image/png": "[encoded data removed]",
      "text/plain": [
       "<Figure size 432x288 with 1 Axes>"
      ]
     },
     "metadata": {
      "needs_background": "light"
     },
     "output_type": "display_data"
    }
   ],
   "source": [
    "# Example #1: Default plot\n",
    "# Stem plots vertical lines from a baseline to the y-coordinate and places a marker at the tip.\n",
    "\n",
    "# importing libraries\n",
    "import matplotlib.pyplot as plt\n",
    "import numpy as np\n",
    "\n",
    "x = np.linspace(0.1, 2 * np.pi, 41)\n",
    "y = np.exp(np.sin(x))\n",
    "\n",
    "plt.stem(x, y, use_line_collection = True)\n",
    "plt.show()\n"
   ]
  },
  {
   "cell_type": "code",
   "execution_count": 4,
   "metadata": {},
   "outputs": [
    {
     "data": {
      "image/png": "[encoded data removed]",
      "text/plain": [
       "<Figure size 432x288 with 1 Axes>"
      ]
     },
     "metadata": {
      "needs_background": "light"
     },
     "output_type": "display_data"
    }
   ],
   "source": [
    "# Example #2: \n",
    "# The position of the baseline can be adjusted using bottom.\n",
    "# The parameters linefmt, markerfmt, and basefmt control basic format properties of the plot.\n",
    "# However, in contrast to plot not all properties are configurable via keyword arguments.\n",
    "# For more advanced control adapt the line objects returned by pyplot.\n",
    "\n",
    "import random\n",
    "import matplotlib.pyplot as plt\n",
    "\n",
    "x = np.linspace(0.1, 2 * np.pi, 41)\n",
    "y = np.exp(np.sin(x))\n",
    "\n",
    "markerline, stemlines, baseline = plt.stem(\n",
    "    x, y, linefmt = 'green', markerfmt = 'D', \n",
    "    bottom = 1.1, use_line_collection = True)\n",
    "\n",
    "markerline.set_markerfacecolor('none')\n",
    "plt.show()"
   ]
  }
 ],
 "metadata": {
  "interpreter": {
   "hash": "63fd5069d213b44bf678585dea6b12cceca9941eaf7f819626cde1f2670de90d"
  },
  "kernelspec": {
   "display_name": "Python 3.9.7 64-bit",
   "language": "python",
   "name": "python3"
  },
  "language_info": {
   "codemirror_mode": {
    "name": "ipython",
    "version": 3
   },
   "file_extension": ".py",
   "mimetype": "text/x-python",
   "name": "python",
   "nbconvert_exporter": "python",
   "pygments_lexer": "ipython3",
   "version": "3.9.7"
  },
  "orig_nbformat": 4
 },
 "nbformat": 4,
 "nbformat_minor": 2
}
